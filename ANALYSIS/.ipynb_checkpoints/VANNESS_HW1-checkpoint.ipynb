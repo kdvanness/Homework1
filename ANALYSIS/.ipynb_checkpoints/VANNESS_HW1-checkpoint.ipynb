{
 "cells": [
  {
   "cell_type": "code",
   "execution_count": 1,
   "metadata": {},
   "outputs": [],
   "source": [
    "import pandas as pd\n",
    "import numpy as np\n",
    "import datetime as dt\n",
    "import matplotlib\n",
    "import matplotlib.pyplot as plt"
   ]
  },
  {
   "cell_type": "code",
   "execution_count": 2,
   "metadata": {},
   "outputs": [],
   "source": [
    "# reads the data file into a dataframe\n",
    "df = pd.read_csv('../DATA/ProntoFremont.csv')"
   ]
  },
  {
   "cell_type": "code",
   "execution_count": 3,
   "metadata": {},
   "outputs": [],
   "source": [
    "# Creates a column for total East and West crossings of the Fremont Bridge at every hour\n",
    "df['Counts'] = df['Fremont Bridge East Sidewalk'] + df['Fremont Bridge West Sidewalk']"
   ]
  },
  {
   "cell_type": "code",
   "execution_count": 27,
   "metadata": {},
   "outputs": [
    {
     "data": {
      "text/html": [
       "<div>\n",
       "<style scoped>\n",
       "    .dataframe tbody tr th:only-of-type {\n",
       "        vertical-align: middle;\n",
       "    }\n",
       "\n",
       "    .dataframe tbody tr th {\n",
       "        vertical-align: top;\n",
       "    }\n",
       "\n",
       "    .dataframe thead th {\n",
       "        text-align: right;\n",
       "    }\n",
       "</style>\n",
       "<table border=\"1\" class=\"dataframe\">\n",
       "  <thead>\n",
       "    <tr style=\"text-align: right;\">\n",
       "      <th></th>\n",
       "      <th>Date</th>\n",
       "      <th>Fremont Bridge East Sidewalk</th>\n",
       "      <th>Fremont Bridge West Sidewalk</th>\n",
       "      <th>Counts</th>\n",
       "      <th>TripHour</th>\n",
       "      <th>TripYear</th>\n",
       "    </tr>\n",
       "  </thead>\n",
       "  <tbody>\n",
       "    <tr>\n",
       "      <th>28440</th>\n",
       "      <td>01/01/2016 12:00:00 AM</td>\n",
       "      <td>9.0</td>\n",
       "      <td>9.0</td>\n",
       "      <td>18.0</td>\n",
       "      <td>0</td>\n",
       "      <td>2016</td>\n",
       "    </tr>\n",
       "    <tr>\n",
       "      <th>28441</th>\n",
       "      <td>01/01/2016 01:00:00 AM</td>\n",
       "      <td>12.0</td>\n",
       "      <td>3.0</td>\n",
       "      <td>15.0</td>\n",
       "      <td>1</td>\n",
       "      <td>2016</td>\n",
       "    </tr>\n",
       "    <tr>\n",
       "      <th>28442</th>\n",
       "      <td>01/01/2016 02:00:00 AM</td>\n",
       "      <td>5.0</td>\n",
       "      <td>6.0</td>\n",
       "      <td>11.0</td>\n",
       "      <td>2</td>\n",
       "      <td>2016</td>\n",
       "    </tr>\n",
       "    <tr>\n",
       "      <th>28443</th>\n",
       "      <td>01/01/2016 03:00:00 AM</td>\n",
       "      <td>6.0</td>\n",
       "      <td>1.0</td>\n",
       "      <td>7.0</td>\n",
       "      <td>3</td>\n",
       "      <td>2016</td>\n",
       "    </tr>\n",
       "    <tr>\n",
       "      <th>28444</th>\n",
       "      <td>01/01/2016 04:00:00 AM</td>\n",
       "      <td>2.0</td>\n",
       "      <td>0.0</td>\n",
       "      <td>2.0</td>\n",
       "      <td>4</td>\n",
       "      <td>2016</td>\n",
       "    </tr>\n",
       "  </tbody>\n",
       "</table>\n",
       "</div>"
      ],
      "text/plain": [
       "                         Date  Fremont Bridge East Sidewalk  \\\n",
       "28440  01/01/2016 12:00:00 AM                           9.0   \n",
       "28441  01/01/2016 01:00:00 AM                          12.0   \n",
       "28442  01/01/2016 02:00:00 AM                           5.0   \n",
       "28443  01/01/2016 03:00:00 AM                           6.0   \n",
       "28444  01/01/2016 04:00:00 AM                           2.0   \n",
       "\n",
       "       Fremont Bridge West Sidewalk  Counts  TripHour  TripYear  \n",
       "28440                           9.0    18.0         0      2016  \n",
       "28441                           3.0    15.0         1      2016  \n",
       "28442                           6.0    11.0         2      2016  \n",
       "28443                           1.0     7.0         3      2016  \n",
       "28444                           0.0     2.0         4      2016  "
      ]
     },
     "execution_count": 27,
     "metadata": {},
     "output_type": "execute_result"
    }
   ],
   "source": [
    "# Creates columns for the hour of the day and the year\n",
    "tmp1 = pd.to_datetime(df['Date'])\n",
    "df['TripHour'] = tmp1.dt.hour\n",
    "df['TripYear'] = tmp1.dt.year\n",
    "\n",
    "# Creates a subset of the data from 2016\n",
    "df2016 = df[df['TripYear'] == 2016]\n",
    "df2016.head()"
   ]
  },
  {
   "cell_type": "code",
   "execution_count": 23,
   "metadata": {},
   "outputs": [],
   "source": [
    "#%matplotlib inline\n",
    "#x = df['TripHour']\n",
    "#y = df['Counts'] \n",
    "#plt.title(\"Bicycle crossings of Fremont Bridge 2012-2018\") \n",
    "#plt.bar(x, y) \n",
    "#plt.xlabel('Hour of the day')\n",
    "#plt.ylabel('Total Counts')\n",
    "#plt.show()"
   ]
  },
  {
   "cell_type": "code",
   "execution_count": 28,
   "metadata": {},
   "outputs": [
    {
     "name": "stderr",
     "output_type": "stream",
     "text": [
      "/home/kate/anaconda3/lib/python3.7/site-packages/ipykernel_launcher.py:2: FutureWarning: pd.groupby() is deprecated and will be removed; Please use the Series.groupby() or DataFrame.groupby() methods\n",
      "  \n"
     ]
    }
   ],
   "source": [
    "# Group the data by crossings at each hour of the day:\n",
    "HourlyCounts = pd.groupby(df['Counts'],df['TripHour']).agg('sum')\n",
    "df_HourlyCounts = pd.Series.to_frame(HourlyCounts)"
   ]
  },
  {
   "cell_type": "code",
   "execution_count": 29,
   "metadata": {},
   "outputs": [
    {
     "data": {
      "image/png": "[encoded data removed]",
      "text/plain": [
       "<Figure size 432x288 with 1 Axes>"
      ]
     },
     "metadata": {
      "needs_background": "light"
     },
     "output_type": "display_data"
    }
   ],
   "source": [
    "# Plot total number of crossings for each hour of the day:\n",
    "%matplotlib inline\n",
    "hours = [0,1,2,3,4,5,6,7,8,9,10,11,12,13,14,15,16,17,18,19,20,21,22,23]\n",
    "plt.title(\"Bicycle crossings of Fremont Bridge 2012-2018\") \n",
    "plt.plot(hours, df_HourlyCounts) \n",
    "plt.xlabel('Hour of the day')\n",
    "plt.ylabel('Total Counts')\n",
    "plt.show()"
   ]
  },
  {
   "cell_type": "code",
   "execution_count": 30,
   "metadata": {},
   "outputs": [
    {
     "name": "stdout",
     "output_type": "stream",
     "text": [
      "The busiest hour of the day is 17 00\n"
     ]
    }
   ],
   "source": [
    "# What is the busiest hour of the day?\n",
    "print(\"The busiest hour of the day is\", HourlyCounts.idxmax(),\"00\")"
   ]
  },
  {
   "cell_type": "code",
   "execution_count": null,
   "metadata": {},
   "outputs": [],
   "source": []
  }
 ],
 "metadata": {
  "kernelspec": {
   "display_name": "Python 3",
   "language": "python",
   "name": "python3"
  },
  "language_info": {
   "codemirror_mode": {
    "name": "ipython",
    "version": 3
   },
   "file_extension": ".py",
   "mimetype": "text/x-python",
   "name": "python",
   "nbconvert_exporter": "python",
   "pygments_lexer": "ipython3",
   "version": "3.7.0"
  }
 },
 "nbformat": 4,
 "nbformat_minor": 2
}
